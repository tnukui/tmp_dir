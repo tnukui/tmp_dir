s{
 "cells": [
  {
   "cell_type": "code",
   "execution_count": 24,
   "metadata": {},
   "outputs": [
    {
     "name": "stdout",
     "output_type": "stream",
     "text": [
      "end\n"
     ]
    }
   ],
   "source": [
    "def file_read(file_name, x,y):\n",
    "    fin=open(file_name,\"rt\")\n",
    "    for line in fin:\n",
    "        line=line.split()\n",
    "        if len(x)>0 and len(line)!=1+len(x[-1]):\n",
    "            print(len(line),len(x_train[-1]),\"okashi\")\n",
    "            break\n",
    "        if float(line[0])>=2.0 and float(line[0])<=3.0:\n",
    "            x.append([float(x) for x in line[1:]])\n",
    "            y.append(float(line[0]))\n",
    "    fin.close()\n",
    "    \n",
    "x_train=[]\n",
    "y_train=[]\n",
    "file_read(\"train.txt\", x_train,y_train)\n",
    "x_test=[]\n",
    "y_test=[]\n",
    "file_read(\"test.txt\", x_test, y_test)\n",
    "print(\"end\")"
   ]
  },
  {
   "cell_type": "code",
   "execution_count": 25,
   "metadata": {},
   "outputs": [
    {
     "name": "stdout",
     "output_type": "stream",
     "text": [
      "1389\n",
      "1389\n",
      "256\n",
      "364\n",
      "364\n",
      "256\n"
     ]
    }
   ],
   "source": [
    "print(len(x_train))\n",
    "print(len(y_train))\n",
    "print(len(x_train[-1]))\n",
    "print(len(x_test))\n",
    "print(len(y_test))\n",
    "print(len(x_test[-1]))"
   ]
  },
  {
   "cell_type": "code",
   "execution_count": 38,
   "metadata": {},
   "outputs": [
    {
     "name": "stdout",
     "output_type": "stream",
     "text": [
      "[1] train score: 0.000000   test score 0.032967\n",
      "[3] train score: 0.005760   test score 0.030220\n",
      "[5] train score: 0.008639   test score 0.035714\n",
      "[7] train score: 0.010799   test score 0.038462\n",
      "[9] train score: 0.010079   test score 0.030220\n",
      "[11] train score: 0.010799   test score 0.030220\n",
      "[13] train score: 0.013679   test score 0.030220\n",
      "[15] train score: 0.015119   test score 0.035714\n",
      "end\n"
     ]
    }
   ],
   "source": [
    "from sklearn.neighbors import KNeighborsClassifier\n",
    "\n",
    "def my_score(y_pred, y_real):\n",
    "    if len(y_pred)!=len(y_real) or len(y_pred)<=0:\n",
    "        return -1\n",
    "    sum_dif=0\n",
    "    for i in range(len(y_pred)):\n",
    "        sum_dif+=(y_pred[i]-y_real[i])**2\n",
    "    return sum_dif/len(y_pred)\n",
    "    \n",
    "\n",
    "list_nn=[]\n",
    "list_train_score=[]\n",
    "list_test_score=[]\n",
    "for k in [1,3,5,7,9,11,13,15]:\n",
    "    knn = KNeighborsClassifier(n_neighbors=k, p=2, metric='minkowski')\n",
    "    knn.fit(x_train, y_train)\n",
    "    y_train_pred=knn.predict(x_train)\n",
    "    y_train_score=my_score(y_train_pred, y_train)\n",
    "    y_test_pred=knn.predict(x_test)\n",
    "    y_test_score=my_score(y_test_pred, y_test)\n",
    "    print(\"[%d] train score: %f   test score %f\" % (k, y_train_score, y_test_score))\n",
    "    list_nn.append(len(x_train)/k)\n",
    "    list_train_score.append(y_train_score)\n",
    "    list_test_score.append(y_test_score)\n",
    "\n",
    "print(\"end\")"
   ]
  },
  {
   "cell_type": "code",
   "execution_count": 39,
   "metadata": {},
   "outputs": [
    {
     "name": "stdout",
     "output_type": "stream",
     "text": [
      "[256] train score: 0.024812   test score 0.151665\n",
      "end\n"
     ]
    }
   ],
   "source": [
    "from sklearn.linear_model import LinearRegression\n",
    "from sklearn.preprocessing import StandardScaler\n",
    "sc=StandardScaler()\n",
    "sc.fit(x_train)\n",
    "x_train=sc.transform(x_train)\n",
    "x_test=sc.transform(x_test)\n",
    "\n",
    "slr=LinearRegression()\n",
    "slr.fit(x_train,y_train)\n",
    "lin_y_train_pred=slr.predict(x_train)\n",
    "lin_y_train_score=my_score(lin_y_train_pred, y_train)\n",
    "lin_y_test_pred=slr.predict(x_test)\n",
    "lin_y_test_score=my_score(lin_y_test_pred, y_test)\n",
    "print(\"[%d] train score: %f   test score %f\" % (len(x_train[0]), lin_y_train_score, lin_y_test_score))\n",
    "\n",
    "print(\"end\")"
   ]
  },
  {
   "cell_type": "code",
   "execution_count": 47,
   "metadata": {},
   "outputs": [
    {
     "name": "stdout",
     "output_type": "stream",
     "text": [
      "256 0.0248117215487 0.151665344716\n"
     ]
    },
    {
     "data": {
      "text/plain": [
       "<matplotlib.legend.Legend at 0x11d619748>"
      ]
     },
     "execution_count": 47,
     "metadata": {},
     "output_type": "execute_result"
    },
    {
     "data": {
      "image/png": "[encoded data removed]",
      "text/plain": [
       "<matplotlib.figure.Figure at 0x11d3ebb70>"
      ]
     },
     "metadata": {},
     "output_type": "display_data"
    }
   ],
   "source": [
    "%matplotlib inline\n",
    "import matplotlib.pyplot as plt\n",
    "plt.xlabel(\"Efficient number of parameters\")\n",
    "plt.ylabel(\"(y - y_pred)^2\")\n",
    "\n",
    "print(len(x_train[0]),lin_y_train_score,lin_y_test_score)\n",
    "plt.scatter(len(x_train[0]),lin_y_train_score,label=\"linear regression train data\")\n",
    "plt.scatter(len(x_train[0]),lin_y_test_score, label=\"linear regression test data\")\n",
    "plt.plot(list_nn,list_train_score,label=\"train data\")\n",
    "plt.plot(list_nn,list_test_score,label=\"test data\")\n",
    "plt.legend(loc='upper right')\n"
   ]
  },
  {
   "cell_type": "code",
   "execution_count": null,
   "metadata": {},
   "outputs": [],
   "source": []
  },
  {
   "cell_type": "code",
   "execution_count": null,
   "metadata": {},
   "outputs": [],
   "source": []
  },
  {
   "cell_type": "code",
   "execution_count": null,
   "metadata": {
    "collapsed": true
   },
   "outputs": [],
   "source": []
  }
 ],
 "metadata": {
  "kernelspec": {
   "display_name": "Python 3",
   "language": "python",
   "name": "python3"
  },
  "language_info": {
   "codemirror_mode": {
    "name": "ipython",
    "version": 3
   },
   "file_extension": ".py",
   "mimetype": "text/x-python",
   "name": "python",
   "nbconvert_exporter": "python",
   "pygments_lexer": "ipython3",
   "version": "3.6.1"
  }
 },
 "nbformat": 4,
 "nbformat_minor": 2
}
